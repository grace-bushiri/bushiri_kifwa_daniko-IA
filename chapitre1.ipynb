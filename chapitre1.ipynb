{
 "cells": [
  {
   "cell_type": "markdown",
   "id": "be56f713-09d8-4a30-b5f8-6d95b9a519e2",
   "metadata": {},
   "source": [
    "# tableau "
   ]
  },
  {
   "cell_type": "markdown",
   "id": "011c636d-b993-49c3-a183-1355b96490ea",
   "metadata": {},
   "source": [
    "# importation de numpy "
   ]
  },
  {
   "cell_type": "code",
   "execution_count": 63,
   "id": "c58877a6-3758-43fc-99eb-7d1dbc63669e",
   "metadata": {},
   "outputs": [],
   "source": [
    "import numpy as np"
   ]
  },
  {
   "cell_type": "code",
   "execution_count": null,
   "id": "2ef17dda-91b1-4255-8490-f5671c6b4d6a",
   "metadata": {},
   "outputs": [],
   "source": [
    "# tableau 1D"
   ]
  },
  {
   "cell_type": "code",
   "execution_count": 6,
   "id": "37bf115a-e380-4336-adf0-6f6d26a32b97",
   "metadata": {},
   "outputs": [
    {
     "name": "stdout",
     "output_type": "stream",
     "text": [
      "le tableau est de type : <class 'numpy.ndarray'>\n",
      "le table a les imensions : (4,)\n",
      "voici le tableau:  [1 2 3 4]\n"
     ]
    }
   ],
   "source": [
    " tab_1D =  np.array([1, 2, 3, 4])\n",
    "print (\"le tableau est de type :\", type(tab_1D))\n",
    "print (\"le table a les imensions :\", tab_1D.shape)\n",
    "print (\"voici le tableau: \", tab_1D)"
   ]
  },
  {
   "cell_type": "code",
   "execution_count": null,
   "id": "263f28f9-89cd-422a-a96f-7c2ec21877cb",
   "metadata": {},
   "outputs": [],
   "source": [
    "# tableau deux imension"
   ]
  },
  {
   "cell_type": "code",
   "execution_count": 7,
   "id": "dfed00d7-a7ec-4bdf-82c4-cd3a95e1e160",
   "metadata": {},
   "outputs": [
    {
     "name": "stdout",
     "output_type": "stream",
     "text": [
      "le tableau est de type : <class 'numpy.ndarray'>\n",
      "le table a les imensions : (2, 4)\n",
      "voici le tableau:  [[1 2 3 4]\n",
      " [1 2 3 4]]\n"
     ]
    }
   ],
   "source": [
    "tab_2D = np.array([\n",
    "    [1, 2, 3, 4],\n",
    "    [1, 2, 3, 4]\n",
    "])\n",
    "\n",
    "print (\"le tableau est de type :\", type(tab_2D))\n",
    "print (\"le table a les imensions :\", tab_2D.shape)\n",
    "print (\"voici le tableau: \", tab_2D)\n"
   ]
  },
  {
   "cell_type": "code",
   "execution_count": null,
   "id": "b50cbdaa-f7e9-411a-b356-f010f8c74429",
   "metadata": {},
   "outputs": [],
   "source": [
    "# tableau trois imensions "
   ]
  },
  {
   "cell_type": "code",
   "execution_count": 33,
   "id": "c6a2474d-ea45-4b21-b097-120c01582a51",
   "metadata": {},
   "outputs": [
    {
     "name": "stdout",
     "output_type": "stream",
     "text": [
      "le tableau est de type : <class 'numpy.ndarray'>\n",
      "le table a les imensions : (2, 2, 4)\n",
      "voici le tableau:  [[[1 2 3 4]\n",
      "  [1 2 3 4]]\n",
      "\n",
      " [[1 2 3 4]\n",
      "  [1 2 3 4]]]\n"
     ]
    }
   ],
   "source": [
    "tab_3D = np.array([[[1, 2, 3, 4],[1, 2, 3, 4]],\n",
    "                  [[1, 2, 3, 4], [1, 2, 3, 4]]])\n",
    "print (\"le tableau est de type :\", type(tab_3D))\n",
    "print (\"le table a les imensions :\", tab_3D.shape)\n",
    "print (\"voici le tableau: \", tab_3D)"
   ]
  },
  {
   "cell_type": "code",
   "execution_count": null,
   "id": "587f3ba6-5c68-4e40-894c-528c62c92409",
   "metadata": {},
   "outputs": [],
   "source": [
    "# tableau 4 dimension "
   ]
  },
  {
   "cell_type": "markdown",
   "id": "e139881f-d0b9-4e14-966f-9d66ee3a19eb",
   "metadata": {},
   "source": [
    "# Operation "
   ]
  },
  {
   "cell_type": "code",
   "execution_count": 4,
   "id": "fb67e3b3-7e21-4940-9452-7ea7d251a251",
   "metadata": {},
   "outputs": [],
   "source": [
    "# addition  "
   ]
  },
  {
   "cell_type": "code",
   "execution_count": 8,
   "id": "6e8362ef-18c3-43d0-b26c-f909cbb8bad2",
   "metadata": {},
   "outputs": [
    {
     "name": "stdout",
     "output_type": "stream",
     "text": [
      "[[ 2  4  6  8]\n",
      " [ 4  6  8 10]]\n"
     ]
    }
   ],
   "source": [
    "a = np.array([\n",
    "    [1, 2, 3, 4],\n",
    "    [2, 3, 4, 5\n",
    "    ]])\n",
    "b =  np.array([\n",
    "    [1, 2, 3, 4],\n",
    "    [2, 3, 4, 5\n",
    "    ]])\n",
    "print(a+b)"
   ]
  },
  {
   "cell_type": "code",
   "execution_count": 9,
   "id": "0f86cc2f-32f6-4079-9c65-d7c9097556be",
   "metadata": {},
   "outputs": [],
   "source": [
    "#soustraction "
   ]
  },
  {
   "cell_type": "code",
   "execution_count": 18,
   "id": "dfebdad1-470d-403c-92da-db449d0d4ad1",
   "metadata": {},
   "outputs": [
    {
     "name": "stdout",
     "output_type": "stream",
     "text": [
      "[[0 0 0 0]\n",
      " [0 0 0 0]]\n"
     ]
    }
   ],
   "source": [
    "a = np.array([\n",
    "    [1, 2, 3, 4],\n",
    "    [2, 3, 4, 5\n",
    "    ]])\n",
    "b =  np.array([\n",
    "    [1, 2, 3, 4],\n",
    "    [2, 3, 4, 5\n",
    "    ]])\n",
    "print(a-b)"
   ]
  },
  {
   "cell_type": "code",
   "execution_count": null,
   "id": "119ee544-ef79-43e3-87d5-796d98203ead",
   "metadata": {},
   "outputs": [],
   "source": [
    "# multiplication "
   ]
  },
  {
   "cell_type": "code",
   "execution_count": 19,
   "id": "0907ee4d-9f6c-4465-884a-683e51417dec",
   "metadata": {},
   "outputs": [
    {
     "name": "stdout",
     "output_type": "stream",
     "text": [
      "[[ 1  4  9 16]\n",
      " [ 4  9 16 25]]\n"
     ]
    }
   ],
   "source": [
    "a = np.array([\n",
    "    [1, 2, 3, 4],\n",
    "    [2, 3, 4, 5\n",
    "    ]])\n",
    "b =  np.array([\n",
    "    [1, 2, 3, 4],\n",
    "    [2, 3, 4, 5\n",
    "    ]])\n",
    "print(a*b)"
   ]
  },
  {
   "cell_type": "code",
   "execution_count": null,
   "id": "a117c51c-fb48-421b-a851-040bdf118404",
   "metadata": {},
   "outputs": [],
   "source": [
    "# division "
   ]
  },
  {
   "cell_type": "code",
   "execution_count": 20,
   "id": "af07050e-7b28-4b8f-b421-90d81ad48080",
   "metadata": {},
   "outputs": [
    {
     "name": "stdout",
     "output_type": "stream",
     "text": [
      "[[1. 1. 1. 1.]\n",
      " [1. 1. 1. 1.]]\n"
     ]
    }
   ],
   "source": [
    "a = np.array([\n",
    "    [1, 2, 3, 4],\n",
    "    [2, 3, 4, 5\n",
    "    ]])\n",
    "b =  np.array([\n",
    "    [1, 2, 3, 4],\n",
    "    [2, 3, 4, 5\n",
    "    ]])\n",
    "print(a/b)"
   ]
  },
  {
   "cell_type": "markdown",
   "id": "afbfb433-8968-47d5-87a6-ff8b44b782ba",
   "metadata": {},
   "source": [
    "# manupilation  "
   ]
  },
  {
   "cell_type": "code",
   "execution_count": 12,
   "id": "5cf1cf47-71f6-4c8b-82f5-0b57194706cb",
   "metadata": {},
   "outputs": [
    {
     "name": "stdout",
     "output_type": "stream",
     "text": [
      "{'Matricule': '2022020008', 'Nom': 'BUSHIRI', 'prenom': 'grace', 'age': 12, 'gpa': 'A'}\n"
     ]
    }
   ],
   "source": [
    "# creation d'un dictionnaire \n",
    "\n",
    "info_etudiant = {\n",
    "    'Matricule':'2022020008',\n",
    "    'Nom':'BUSHIRI',\n",
    "    'prenom':'grace',\n",
    "    'age':12, \n",
    "    'gpa':'A'\n",
    "} \n",
    "print(info_etudiant)"
   ]
  },
  {
   "cell_type": "code",
   "execution_count": 13,
   "id": "93541cba-019b-498f-8cca-d6738b192d4f",
   "metadata": {},
   "outputs": [
    {
     "name": "stdout",
     "output_type": "stream",
     "text": [
      "{'mat': ['2022', '2021', '2023', '2025', '2019'], 'nom': ['bush', 'kifwa', 'yumba', 'irung', 'kabila'], 'prenom': ['grace', 'daniko', 'adel', 'lord', 'joseph'], 'age': [12, 15, 78, 52, 45], 'gpa': ['A', 'D', 'A', 'C', 'A']}\n"
     ]
    }
   ],
   "source": [
    " inf_etud_gl = {\n",
    "     'mat': ['2022', '2021', '2023', '2025','2019'],\n",
    "     'nom':['bush','kifwa','yumba','irung','kabila'],\n",
    "     'prenom':['grace','daniko','adel','lord','joseph'],\n",
    "     'age':[12,15,78,52,45],\n",
    "     'gpa':['A','D','A','C','A']\n",
    " }\n",
    " print (inf_etud_gl)"
   ]
  },
  {
   "cell_type": "markdown",
   "id": "7087113b-7724-46a2-ae5a-f8372314bad0",
   "metadata": {},
   "source": [
    "# importation de pandas"
   ]
  },
  {
   "cell_type": "code",
   "execution_count": 52,
   "id": "2b093bdc-4cca-4213-ad6a-95d6e58957ab",
   "metadata": {},
   "outputs": [],
   "source": [
    "import pandas as pd"
   ]
  },
  {
   "cell_type": "code",
   "execution_count": 17,
   "id": "7e980e3b-5a9f-4009-86e5-79dce84b80aa",
   "metadata": {},
   "outputs": [
    {
     "data": {
      "text/html": [
       "<div>\n",
       "<style scoped>\n",
       "    .dataframe tbody tr th:only-of-type {\n",
       "        vertical-align: middle;\n",
       "    }\n",
       "\n",
       "    .dataframe tbody tr th {\n",
       "        vertical-align: top;\n",
       "    }\n",
       "\n",
       "    .dataframe thead th {\n",
       "        text-align: right;\n",
       "    }\n",
       "</style>\n",
       "<table border=\"1\" class=\"dataframe\">\n",
       "  <thead>\n",
       "    <tr style=\"text-align: right;\">\n",
       "      <th></th>\n",
       "      <th>mat</th>\n",
       "      <th>nom</th>\n",
       "      <th>prenom</th>\n",
       "      <th>age</th>\n",
       "      <th>gpa</th>\n",
       "    </tr>\n",
       "  </thead>\n",
       "  <tbody>\n",
       "    <tr>\n",
       "      <th>0</th>\n",
       "      <td>2022</td>\n",
       "      <td>bush</td>\n",
       "      <td>grace</td>\n",
       "      <td>12</td>\n",
       "      <td>A</td>\n",
       "    </tr>\n",
       "    <tr>\n",
       "      <th>1</th>\n",
       "      <td>2021</td>\n",
       "      <td>kifwa</td>\n",
       "      <td>daniko</td>\n",
       "      <td>15</td>\n",
       "      <td>D</td>\n",
       "    </tr>\n",
       "    <tr>\n",
       "      <th>2</th>\n",
       "      <td>2023</td>\n",
       "      <td>yumba</td>\n",
       "      <td>adel</td>\n",
       "      <td>78</td>\n",
       "      <td>A</td>\n",
       "    </tr>\n",
       "    <tr>\n",
       "      <th>3</th>\n",
       "      <td>2025</td>\n",
       "      <td>irung</td>\n",
       "      <td>lord</td>\n",
       "      <td>52</td>\n",
       "      <td>C</td>\n",
       "    </tr>\n",
       "    <tr>\n",
       "      <th>4</th>\n",
       "      <td>2019</td>\n",
       "      <td>kabila</td>\n",
       "      <td>joseph</td>\n",
       "      <td>45</td>\n",
       "      <td>A</td>\n",
       "    </tr>\n",
       "  </tbody>\n",
       "</table>\n",
       "</div>"
      ],
      "text/plain": [
       "    mat     nom  prenom  age gpa\n",
       "0  2022    bush   grace   12   A\n",
       "1  2021   kifwa  daniko   15   D\n",
       "2  2023   yumba    adel   78   A\n",
       "3  2025   irung    lord   52   C\n",
       "4  2019  kabila  joseph   45   A"
      ]
     },
     "execution_count": 17,
     "metadata": {},
     "output_type": "execute_result"
    }
   ],
   "source": [
    "data_etud = pd.DataFrame(inf_etud_gl)\n",
    "data_etud"
   ]
  },
  {
   "cell_type": "code",
   "execution_count": 21,
   "id": "a2827225-477e-4dd3-9932-c3d912b866e1",
   "metadata": {},
   "outputs": [
    {
     "data": {
      "text/html": [
       "<div>\n",
       "<style scoped>\n",
       "    .dataframe tbody tr th:only-of-type {\n",
       "        vertical-align: middle;\n",
       "    }\n",
       "\n",
       "    .dataframe tbody tr th {\n",
       "        vertical-align: top;\n",
       "    }\n",
       "\n",
       "    .dataframe thead th {\n",
       "        text-align: right;\n",
       "    }\n",
       "</style>\n",
       "<table border=\"1\" class=\"dataframe\">\n",
       "  <thead>\n",
       "    <tr style=\"text-align: right;\">\n",
       "      <th></th>\n",
       "      <th>mat</th>\n",
       "      <th>nom</th>\n",
       "      <th>prenom</th>\n",
       "      <th>age</th>\n",
       "      <th>gpa</th>\n",
       "    </tr>\n",
       "  </thead>\n",
       "  <tbody>\n",
       "    <tr>\n",
       "      <th>0</th>\n",
       "      <td>2022</td>\n",
       "      <td>bush</td>\n",
       "      <td>grace</td>\n",
       "      <td>12</td>\n",
       "      <td>A</td>\n",
       "    </tr>\n",
       "    <tr>\n",
       "      <th>1</th>\n",
       "      <td>2021</td>\n",
       "      <td>kifwa</td>\n",
       "      <td>daniko</td>\n",
       "      <td>15</td>\n",
       "      <td>D</td>\n",
       "    </tr>\n",
       "  </tbody>\n",
       "</table>\n",
       "</div>"
      ],
      "text/plain": [
       "    mat    nom  prenom  age gpa\n",
       "0  2022   bush   grace   12   A\n",
       "1  2021  kifwa  daniko   15   D"
      ]
     },
     "execution_count": 21,
     "metadata": {},
     "output_type": "execute_result"
    }
   ],
   "source": [
    "data_etud.head(2)"
   ]
  },
  {
   "cell_type": "code",
   "execution_count": 22,
   "id": "cffdba0e-86e0-40f2-8e45-9b725f3a2dcb",
   "metadata": {},
   "outputs": [
    {
     "data": {
      "text/html": [
       "<div>\n",
       "<style scoped>\n",
       "    .dataframe tbody tr th:only-of-type {\n",
       "        vertical-align: middle;\n",
       "    }\n",
       "\n",
       "    .dataframe tbody tr th {\n",
       "        vertical-align: top;\n",
       "    }\n",
       "\n",
       "    .dataframe thead th {\n",
       "        text-align: right;\n",
       "    }\n",
       "</style>\n",
       "<table border=\"1\" class=\"dataframe\">\n",
       "  <thead>\n",
       "    <tr style=\"text-align: right;\">\n",
       "      <th></th>\n",
       "      <th>mat</th>\n",
       "      <th>nom</th>\n",
       "      <th>prenom</th>\n",
       "      <th>age</th>\n",
       "      <th>gpa</th>\n",
       "    </tr>\n",
       "  </thead>\n",
       "  <tbody>\n",
       "    <tr>\n",
       "      <th>4</th>\n",
       "      <td>2019</td>\n",
       "      <td>kabila</td>\n",
       "      <td>joseph</td>\n",
       "      <td>45</td>\n",
       "      <td>A</td>\n",
       "    </tr>\n",
       "  </tbody>\n",
       "</table>\n",
       "</div>"
      ],
      "text/plain": [
       "    mat     nom  prenom  age gpa\n",
       "4  2019  kabila  joseph   45   A"
      ]
     },
     "execution_count": 22,
     "metadata": {},
     "output_type": "execute_result"
    }
   ],
   "source": [
    "data_etud.tail(1)"
   ]
  },
  {
   "cell_type": "code",
   "execution_count": 25,
   "id": "4f2864fd-2e18-44a7-bbed-e621662b2141",
   "metadata": {},
   "outputs": [
    {
     "data": {
      "text/plain": [
       "0    2022\n",
       "1    2021\n",
       "2    2023\n",
       "3    2025\n",
       "4    2019\n",
       "Name: mat, dtype: object"
      ]
     },
     "execution_count": 25,
     "metadata": {},
     "output_type": "execute_result"
    }
   ],
   "source": [
    "data_etud['mat']"
   ]
  },
  {
   "cell_type": "code",
   "execution_count": 26,
   "id": "2908547f-f652-47b4-a0c5-193d9716ba20",
   "metadata": {},
   "outputs": [
    {
     "data": {
      "text/html": [
       "<div>\n",
       "<style scoped>\n",
       "    .dataframe tbody tr th:only-of-type {\n",
       "        vertical-align: middle;\n",
       "    }\n",
       "\n",
       "    .dataframe tbody tr th {\n",
       "        vertical-align: top;\n",
       "    }\n",
       "\n",
       "    .dataframe thead th {\n",
       "        text-align: right;\n",
       "    }\n",
       "</style>\n",
       "<table border=\"1\" class=\"dataframe\">\n",
       "  <thead>\n",
       "    <tr style=\"text-align: right;\">\n",
       "      <th></th>\n",
       "      <th>mat</th>\n",
       "      <th>nom</th>\n",
       "    </tr>\n",
       "  </thead>\n",
       "  <tbody>\n",
       "    <tr>\n",
       "      <th>0</th>\n",
       "      <td>2022</td>\n",
       "      <td>bush</td>\n",
       "    </tr>\n",
       "    <tr>\n",
       "      <th>1</th>\n",
       "      <td>2021</td>\n",
       "      <td>kifwa</td>\n",
       "    </tr>\n",
       "    <tr>\n",
       "      <th>2</th>\n",
       "      <td>2023</td>\n",
       "      <td>yumba</td>\n",
       "    </tr>\n",
       "    <tr>\n",
       "      <th>3</th>\n",
       "      <td>2025</td>\n",
       "      <td>irung</td>\n",
       "    </tr>\n",
       "    <tr>\n",
       "      <th>4</th>\n",
       "      <td>2019</td>\n",
       "      <td>kabila</td>\n",
       "    </tr>\n",
       "  </tbody>\n",
       "</table>\n",
       "</div>"
      ],
      "text/plain": [
       "    mat     nom\n",
       "0  2022    bush\n",
       "1  2021   kifwa\n",
       "2  2023   yumba\n",
       "3  2025   irung\n",
       "4  2019  kabila"
      ]
     },
     "execution_count": 26,
     "metadata": {},
     "output_type": "execute_result"
    }
   ],
   "source": [
    "data_etud[['mat','nom']]"
   ]
  },
  {
   "cell_type": "code",
   "execution_count": 27,
   "id": "f7e1dc84-7d26-4fe7-bc5a-cd6ace1f4ceb",
   "metadata": {},
   "outputs": [],
   "source": [
    "# afficher les informations de yumba "
   ]
  },
  {
   "cell_type": "code",
   "execution_count": 28,
   "id": "1ba4cca8-39e9-4fb8-862b-67679dea5bc6",
   "metadata": {},
   "outputs": [
    {
     "data": {
      "text/html": [
       "<div>\n",
       "<style scoped>\n",
       "    .dataframe tbody tr th:only-of-type {\n",
       "        vertical-align: middle;\n",
       "    }\n",
       "\n",
       "    .dataframe tbody tr th {\n",
       "        vertical-align: top;\n",
       "    }\n",
       "\n",
       "    .dataframe thead th {\n",
       "        text-align: right;\n",
       "    }\n",
       "</style>\n",
       "<table border=\"1\" class=\"dataframe\">\n",
       "  <thead>\n",
       "    <tr style=\"text-align: right;\">\n",
       "      <th></th>\n",
       "      <th>mat</th>\n",
       "      <th>nom</th>\n",
       "      <th>prenom</th>\n",
       "      <th>age</th>\n",
       "      <th>gpa</th>\n",
       "    </tr>\n",
       "  </thead>\n",
       "  <tbody>\n",
       "    <tr>\n",
       "      <th>2</th>\n",
       "      <td>2023</td>\n",
       "      <td>yumba</td>\n",
       "      <td>adel</td>\n",
       "      <td>78</td>\n",
       "      <td>A</td>\n",
       "    </tr>\n",
       "  </tbody>\n",
       "</table>\n",
       "</div>"
      ],
      "text/plain": [
       "    mat    nom prenom  age gpa\n",
       "2  2023  yumba   adel   78   A"
      ]
     },
     "execution_count": 28,
     "metadata": {},
     "output_type": "execute_result"
    }
   ],
   "source": [
    "data_etud.iloc[2:3, :]"
   ]
  },
  {
   "cell_type": "code",
   "execution_count": 29,
   "id": "7a937ece-3b23-4fe7-ba32-32f520eab88a",
   "metadata": {},
   "outputs": [
    {
     "data": {
      "text/html": [
       "<div>\n",
       "<style scoped>\n",
       "    .dataframe tbody tr th:only-of-type {\n",
       "        vertical-align: middle;\n",
       "    }\n",
       "\n",
       "    .dataframe tbody tr th {\n",
       "        vertical-align: top;\n",
       "    }\n",
       "\n",
       "    .dataframe thead th {\n",
       "        text-align: right;\n",
       "    }\n",
       "</style>\n",
       "<table border=\"1\" class=\"dataframe\">\n",
       "  <thead>\n",
       "    <tr style=\"text-align: right;\">\n",
       "      <th></th>\n",
       "      <th>gpa</th>\n",
       "    </tr>\n",
       "  </thead>\n",
       "  <tbody>\n",
       "    <tr>\n",
       "      <th>2</th>\n",
       "      <td>A</td>\n",
       "    </tr>\n",
       "  </tbody>\n",
       "</table>\n",
       "</div>"
      ],
      "text/plain": [
       "  gpa\n",
       "2   A"
      ]
     },
     "execution_count": 29,
     "metadata": {},
     "output_type": "execute_result"
    }
   ],
   "source": [
    "data_etud.iloc[2:3, 4:5]"
   ]
  },
  {
   "cell_type": "code",
   "execution_count": 31,
   "id": "d23d0c06-f9f2-4cec-9aed-713196d7b1ad",
   "metadata": {},
   "outputs": [
    {
     "data": {
      "text/html": [
       "<div>\n",
       "<style scoped>\n",
       "    .dataframe tbody tr th:only-of-type {\n",
       "        vertical-align: middle;\n",
       "    }\n",
       "\n",
       "    .dataframe tbody tr th {\n",
       "        vertical-align: top;\n",
       "    }\n",
       "\n",
       "    .dataframe thead th {\n",
       "        text-align: right;\n",
       "    }\n",
       "</style>\n",
       "<table border=\"1\" class=\"dataframe\">\n",
       "  <thead>\n",
       "    <tr style=\"text-align: right;\">\n",
       "      <th></th>\n",
       "      <th>age</th>\n",
       "    </tr>\n",
       "  </thead>\n",
       "  <tbody>\n",
       "    <tr>\n",
       "      <th>2</th>\n",
       "      <td>78</td>\n",
       "    </tr>\n",
       "  </tbody>\n",
       "</table>\n",
       "</div>"
      ],
      "text/plain": [
       "   age\n",
       "2   78"
      ]
     },
     "execution_count": 31,
     "metadata": {},
     "output_type": "execute_result"
    }
   ],
   "source": [
    "data_etud.iloc[2:3, 3:4]"
   ]
  },
  {
   "cell_type": "code",
   "execution_count": null,
   "id": "4d3a8ccb-0f37-42e7-8cce-af39a71d1d68",
   "metadata": {},
   "outputs": [],
   "source": [
    "# ajout des colonne "
   ]
  },
  {
   "cell_type": "code",
   "execution_count": 41,
   "id": "6aac7bfe-1b37-4677-b222-5b358c68bc0e",
   "metadata": {},
   "outputs": [
    {
     "data": {
      "text/html": [
       "<div>\n",
       "<style scoped>\n",
       "    .dataframe tbody tr th:only-of-type {\n",
       "        vertical-align: middle;\n",
       "    }\n",
       "\n",
       "    .dataframe tbody tr th {\n",
       "        vertical-align: top;\n",
       "    }\n",
       "\n",
       "    .dataframe thead th {\n",
       "        text-align: right;\n",
       "    }\n",
       "</style>\n",
       "<table border=\"1\" class=\"dataframe\">\n",
       "  <thead>\n",
       "    <tr style=\"text-align: right;\">\n",
       "      <th></th>\n",
       "      <th>mat</th>\n",
       "      <th>nom</th>\n",
       "      <th>prenom</th>\n",
       "      <th>age</th>\n",
       "      <th>gpa</th>\n",
       "      <th>genre</th>\n",
       "    </tr>\n",
       "  </thead>\n",
       "  <tbody>\n",
       "    <tr>\n",
       "      <th>0</th>\n",
       "      <td>2022</td>\n",
       "      <td>bush</td>\n",
       "      <td>grace</td>\n",
       "      <td>12</td>\n",
       "      <td>A</td>\n",
       "      <td>m</td>\n",
       "    </tr>\n",
       "    <tr>\n",
       "      <th>1</th>\n",
       "      <td>2021</td>\n",
       "      <td>kifwa</td>\n",
       "      <td>daniko</td>\n",
       "      <td>15</td>\n",
       "      <td>D</td>\n",
       "      <td>m</td>\n",
       "    </tr>\n",
       "    <tr>\n",
       "      <th>2</th>\n",
       "      <td>2023</td>\n",
       "      <td>yumba</td>\n",
       "      <td>adel</td>\n",
       "      <td>78</td>\n",
       "      <td>A</td>\n",
       "      <td>f</td>\n",
       "    </tr>\n",
       "    <tr>\n",
       "      <th>3</th>\n",
       "      <td>2025</td>\n",
       "      <td>irung</td>\n",
       "      <td>lord</td>\n",
       "      <td>52</td>\n",
       "      <td>C</td>\n",
       "      <td>m</td>\n",
       "    </tr>\n",
       "    <tr>\n",
       "      <th>4</th>\n",
       "      <td>2019</td>\n",
       "      <td>kabila</td>\n",
       "      <td>joseph</td>\n",
       "      <td>45</td>\n",
       "      <td>A</td>\n",
       "      <td>m</td>\n",
       "    </tr>\n",
       "  </tbody>\n",
       "</table>\n",
       "</div>"
      ],
      "text/plain": [
       "    mat     nom  prenom  age gpa genre\n",
       "0  2022    bush   grace   12   A     m\n",
       "1  2021   kifwa  daniko   15   D     m\n",
       "2  2023   yumba    adel   78   A     f\n",
       "3  2025   irung    lord   52   C     m\n",
       "4  2019  kabila  joseph   45   A     m"
      ]
     },
     "execution_count": 41,
     "metadata": {},
     "output_type": "execute_result"
    }
   ],
   "source": [
    "data_etud['genre']= ['m','m','f','m','m']\n",
    "data_etud"
   ]
  },
  {
   "cell_type": "code",
   "execution_count": 42,
   "id": "23b67f3c-646a-48be-a2fb-b12aea50c1b3",
   "metadata": {},
   "outputs": [
    {
     "data": {
      "text/html": [
       "<div>\n",
       "<style scoped>\n",
       "    .dataframe tbody tr th:only-of-type {\n",
       "        vertical-align: middle;\n",
       "    }\n",
       "\n",
       "    .dataframe tbody tr th {\n",
       "        vertical-align: top;\n",
       "    }\n",
       "\n",
       "    .dataframe thead th {\n",
       "        text-align: right;\n",
       "    }\n",
       "</style>\n",
       "<table border=\"1\" class=\"dataframe\">\n",
       "  <thead>\n",
       "    <tr style=\"text-align: right;\">\n",
       "      <th></th>\n",
       "      <th>mat</th>\n",
       "      <th>nom</th>\n",
       "      <th>prenom</th>\n",
       "      <th>age</th>\n",
       "      <th>gpa</th>\n",
       "      <th>genre</th>\n",
       "      <th>pourcentage</th>\n",
       "    </tr>\n",
       "  </thead>\n",
       "  <tbody>\n",
       "    <tr>\n",
       "      <th>0</th>\n",
       "      <td>2022</td>\n",
       "      <td>bush</td>\n",
       "      <td>grace</td>\n",
       "      <td>12</td>\n",
       "      <td>A</td>\n",
       "      <td>m</td>\n",
       "      <td>56</td>\n",
       "    </tr>\n",
       "    <tr>\n",
       "      <th>1</th>\n",
       "      <td>2021</td>\n",
       "      <td>kifwa</td>\n",
       "      <td>daniko</td>\n",
       "      <td>15</td>\n",
       "      <td>D</td>\n",
       "      <td>m</td>\n",
       "      <td>48</td>\n",
       "    </tr>\n",
       "    <tr>\n",
       "      <th>2</th>\n",
       "      <td>2023</td>\n",
       "      <td>yumba</td>\n",
       "      <td>adel</td>\n",
       "      <td>78</td>\n",
       "      <td>A</td>\n",
       "      <td>f</td>\n",
       "      <td>80</td>\n",
       "    </tr>\n",
       "    <tr>\n",
       "      <th>3</th>\n",
       "      <td>2025</td>\n",
       "      <td>irung</td>\n",
       "      <td>lord</td>\n",
       "      <td>52</td>\n",
       "      <td>C</td>\n",
       "      <td>m</td>\n",
       "      <td>65</td>\n",
       "    </tr>\n",
       "    <tr>\n",
       "      <th>4</th>\n",
       "      <td>2019</td>\n",
       "      <td>kabila</td>\n",
       "      <td>joseph</td>\n",
       "      <td>45</td>\n",
       "      <td>A</td>\n",
       "      <td>m</td>\n",
       "      <td>78</td>\n",
       "    </tr>\n",
       "  </tbody>\n",
       "</table>\n",
       "</div>"
      ],
      "text/plain": [
       "    mat     nom  prenom  age gpa genre  pourcentage\n",
       "0  2022    bush   grace   12   A     m           56\n",
       "1  2021   kifwa  daniko   15   D     m           48\n",
       "2  2023   yumba    adel   78   A     f           80\n",
       "3  2025   irung    lord   52   C     m           65\n",
       "4  2019  kabila  joseph   45   A     m           78"
      ]
     },
     "execution_count": 42,
     "metadata": {},
     "output_type": "execute_result"
    }
   ],
   "source": [
    "data_etud['pourcentage']= [56, 48, 80, 65, 78]\n",
    "data_etud"
   ]
  },
  {
   "cell_type": "code",
   "execution_count": 43,
   "id": "d6c298e1-d4d6-473d-9bc0-e557c466eabb",
   "metadata": {},
   "outputs": [],
   "source": [
    "# suppression d'une colone \n"
   ]
  },
  {
   "cell_type": "code",
   "execution_count": 44,
   "id": "9507ae76-35fa-4386-9980-4a3abf28eefd",
   "metadata": {},
   "outputs": [
    {
     "data": {
      "text/html": [
       "<div>\n",
       "<style scoped>\n",
       "    .dataframe tbody tr th:only-of-type {\n",
       "        vertical-align: middle;\n",
       "    }\n",
       "\n",
       "    .dataframe tbody tr th {\n",
       "        vertical-align: top;\n",
       "    }\n",
       "\n",
       "    .dataframe thead th {\n",
       "        text-align: right;\n",
       "    }\n",
       "</style>\n",
       "<table border=\"1\" class=\"dataframe\">\n",
       "  <thead>\n",
       "    <tr style=\"text-align: right;\">\n",
       "      <th></th>\n",
       "      <th>mat</th>\n",
       "      <th>nom</th>\n",
       "      <th>prenom</th>\n",
       "      <th>age</th>\n",
       "      <th>genre</th>\n",
       "      <th>pourcentage</th>\n",
       "    </tr>\n",
       "  </thead>\n",
       "  <tbody>\n",
       "    <tr>\n",
       "      <th>0</th>\n",
       "      <td>2022</td>\n",
       "      <td>bush</td>\n",
       "      <td>grace</td>\n",
       "      <td>12</td>\n",
       "      <td>m</td>\n",
       "      <td>56</td>\n",
       "    </tr>\n",
       "    <tr>\n",
       "      <th>1</th>\n",
       "      <td>2021</td>\n",
       "      <td>kifwa</td>\n",
       "      <td>daniko</td>\n",
       "      <td>15</td>\n",
       "      <td>m</td>\n",
       "      <td>48</td>\n",
       "    </tr>\n",
       "    <tr>\n",
       "      <th>2</th>\n",
       "      <td>2023</td>\n",
       "      <td>yumba</td>\n",
       "      <td>adel</td>\n",
       "      <td>78</td>\n",
       "      <td>f</td>\n",
       "      <td>80</td>\n",
       "    </tr>\n",
       "    <tr>\n",
       "      <th>3</th>\n",
       "      <td>2025</td>\n",
       "      <td>irung</td>\n",
       "      <td>lord</td>\n",
       "      <td>52</td>\n",
       "      <td>m</td>\n",
       "      <td>65</td>\n",
       "    </tr>\n",
       "    <tr>\n",
       "      <th>4</th>\n",
       "      <td>2019</td>\n",
       "      <td>kabila</td>\n",
       "      <td>joseph</td>\n",
       "      <td>45</td>\n",
       "      <td>m</td>\n",
       "      <td>78</td>\n",
       "    </tr>\n",
       "  </tbody>\n",
       "</table>\n",
       "</div>"
      ],
      "text/plain": [
       "    mat     nom  prenom  age genre  pourcentage\n",
       "0  2022    bush   grace   12     m           56\n",
       "1  2021   kifwa  daniko   15     m           48\n",
       "2  2023   yumba    adel   78     f           80\n",
       "3  2025   irung    lord   52     m           65\n",
       "4  2019  kabila  joseph   45     m           78"
      ]
     },
     "execution_count": 44,
     "metadata": {},
     "output_type": "execute_result"
    }
   ],
   "source": [
    "data_etud.drop(columns='gpa', inplace = True)\n",
    "data_etud"
   ]
  },
  {
   "cell_type": "code",
   "execution_count": 55,
   "id": "77e44ebe-fbac-4835-afb0-bcef971384a4",
   "metadata": {},
   "outputs": [],
   "source": [
    "# convertir une colonne genre en m=1 et f=0\n",
    "#mapping de la colonne genre "
   ]
  },
  {
   "cell_type": "code",
   "execution_count": 57,
   "id": "c2cdc7a0-0593-45d5-a5f2-63563e051422",
   "metadata": {},
   "outputs": [],
   "source": [
    "Mapping_genre =  {\n",
    "    'm' : 1,\n",
    "    'f' : 0\n",
    "}\n",
    "data_etud['genre'] =  data_etud['genre'].map(Mapping_genre)"
   ]
  },
  {
   "cell_type": "code",
   "execution_count": 58,
   "id": "e8139756-d33b-4f03-abd1-72742921d6bd",
   "metadata": {},
   "outputs": [
    {
     "data": {
      "text/html": [
       "<div>\n",
       "<style scoped>\n",
       "    .dataframe tbody tr th:only-of-type {\n",
       "        vertical-align: middle;\n",
       "    }\n",
       "\n",
       "    .dataframe tbody tr th {\n",
       "        vertical-align: top;\n",
       "    }\n",
       "\n",
       "    .dataframe thead th {\n",
       "        text-align: right;\n",
       "    }\n",
       "</style>\n",
       "<table border=\"1\" class=\"dataframe\">\n",
       "  <thead>\n",
       "    <tr style=\"text-align: right;\">\n",
       "      <th></th>\n",
       "      <th>mat</th>\n",
       "      <th>nom</th>\n",
       "      <th>prenom</th>\n",
       "      <th>age</th>\n",
       "      <th>genre</th>\n",
       "      <th>pourcentage</th>\n",
       "    </tr>\n",
       "  </thead>\n",
       "  <tbody>\n",
       "    <tr>\n",
       "      <th>0</th>\n",
       "      <td>2022</td>\n",
       "      <td>bush</td>\n",
       "      <td>grace</td>\n",
       "      <td>12</td>\n",
       "      <td>1</td>\n",
       "      <td>56</td>\n",
       "    </tr>\n",
       "    <tr>\n",
       "      <th>1</th>\n",
       "      <td>2021</td>\n",
       "      <td>kifwa</td>\n",
       "      <td>daniko</td>\n",
       "      <td>15</td>\n",
       "      <td>1</td>\n",
       "      <td>48</td>\n",
       "    </tr>\n",
       "    <tr>\n",
       "      <th>2</th>\n",
       "      <td>2023</td>\n",
       "      <td>yumba</td>\n",
       "      <td>adel</td>\n",
       "      <td>78</td>\n",
       "      <td>0</td>\n",
       "      <td>80</td>\n",
       "    </tr>\n",
       "    <tr>\n",
       "      <th>3</th>\n",
       "      <td>2025</td>\n",
       "      <td>irung</td>\n",
       "      <td>lord</td>\n",
       "      <td>52</td>\n",
       "      <td>1</td>\n",
       "      <td>65</td>\n",
       "    </tr>\n",
       "    <tr>\n",
       "      <th>4</th>\n",
       "      <td>2019</td>\n",
       "      <td>kabila</td>\n",
       "      <td>joseph</td>\n",
       "      <td>45</td>\n",
       "      <td>1</td>\n",
       "      <td>78</td>\n",
       "    </tr>\n",
       "  </tbody>\n",
       "</table>\n",
       "</div>"
      ],
      "text/plain": [
       "    mat     nom  prenom  age  genre  pourcentage\n",
       "0  2022    bush   grace   12      1           56\n",
       "1  2021   kifwa  daniko   15      1           48\n",
       "2  2023   yumba    adel   78      0           80\n",
       "3  2025   irung    lord   52      1           65\n",
       "4  2019  kabila  joseph   45      1           78"
      ]
     },
     "execution_count": 58,
     "metadata": {},
     "output_type": "execute_result"
    }
   ],
   "source": [
    "data_etud"
   ]
  },
  {
   "cell_type": "code",
   "execution_count": null,
   "id": "af494a15-88b7-4659-a25a-a57453ff2d65",
   "metadata": {},
   "outputs": [],
   "source": [
    "# convertir une colonne avec la methode "
   ]
  },
  {
   "cell_type": "code",
   "execution_count": 59,
   "id": "49d6c9f1-ad80-4649-aaf7-55017b317d3e",
   "metadata": {},
   "outputs": [],
   "source": [
    "data_etud['genre'] =  np.where(data_etud['genre'] == 'm',1,0)"
   ]
  },
  {
   "cell_type": "code",
   "execution_count": 60,
   "id": "82c419a1-1146-406e-b68d-842053426193",
   "metadata": {},
   "outputs": [
    {
     "data": {
      "text/html": [
       "<div>\n",
       "<style scoped>\n",
       "    .dataframe tbody tr th:only-of-type {\n",
       "        vertical-align: middle;\n",
       "    }\n",
       "\n",
       "    .dataframe tbody tr th {\n",
       "        vertical-align: top;\n",
       "    }\n",
       "\n",
       "    .dataframe thead th {\n",
       "        text-align: right;\n",
       "    }\n",
       "</style>\n",
       "<table border=\"1\" class=\"dataframe\">\n",
       "  <thead>\n",
       "    <tr style=\"text-align: right;\">\n",
       "      <th></th>\n",
       "      <th>mat</th>\n",
       "      <th>nom</th>\n",
       "      <th>prenom</th>\n",
       "      <th>age</th>\n",
       "      <th>genre</th>\n",
       "      <th>pourcentage</th>\n",
       "    </tr>\n",
       "  </thead>\n",
       "  <tbody>\n",
       "    <tr>\n",
       "      <th>0</th>\n",
       "      <td>2022</td>\n",
       "      <td>bush</td>\n",
       "      <td>grace</td>\n",
       "      <td>12</td>\n",
       "      <td>0</td>\n",
       "      <td>56</td>\n",
       "    </tr>\n",
       "    <tr>\n",
       "      <th>1</th>\n",
       "      <td>2021</td>\n",
       "      <td>kifwa</td>\n",
       "      <td>daniko</td>\n",
       "      <td>15</td>\n",
       "      <td>0</td>\n",
       "      <td>48</td>\n",
       "    </tr>\n",
       "    <tr>\n",
       "      <th>2</th>\n",
       "      <td>2023</td>\n",
       "      <td>yumba</td>\n",
       "      <td>adel</td>\n",
       "      <td>78</td>\n",
       "      <td>0</td>\n",
       "      <td>80</td>\n",
       "    </tr>\n",
       "    <tr>\n",
       "      <th>3</th>\n",
       "      <td>2025</td>\n",
       "      <td>irung</td>\n",
       "      <td>lord</td>\n",
       "      <td>52</td>\n",
       "      <td>0</td>\n",
       "      <td>65</td>\n",
       "    </tr>\n",
       "    <tr>\n",
       "      <th>4</th>\n",
       "      <td>2019</td>\n",
       "      <td>kabila</td>\n",
       "      <td>joseph</td>\n",
       "      <td>45</td>\n",
       "      <td>0</td>\n",
       "      <td>78</td>\n",
       "    </tr>\n",
       "  </tbody>\n",
       "</table>\n",
       "</div>"
      ],
      "text/plain": [
       "    mat     nom  prenom  age  genre  pourcentage\n",
       "0  2022    bush   grace   12      0           56\n",
       "1  2021   kifwa  daniko   15      0           48\n",
       "2  2023   yumba    adel   78      0           80\n",
       "3  2025   irung    lord   52      0           65\n",
       "4  2019  kabila  joseph   45      0           78"
      ]
     },
     "execution_count": 60,
     "metadata": {},
     "output_type": "execute_result"
    }
   ],
   "source": [
    "data_etud"
   ]
  },
  {
   "cell_type": "markdown",
   "id": "3b7ccacd-59cb-4890-acdc-0557f64ec3f7",
   "metadata": {},
   "source": [
    "# D visualisation des donnest "
   ]
  },
  {
   "cell_type": "markdown",
   "id": "74df9415-3992-4a0f-9a25-57fa7015210c",
   "metadata": {},
   "source": [
    "# creation de données "
   ]
  },
  {
   "cell_type": "code",
   "execution_count": 65,
   "id": "7dabec2d-b2c9-4b5c-88d9-4790b5608eed",
   "metadata": {},
   "outputs": [],
   "source": [
    "x =  np.linspace(0, 2, 50)"
   ]
  },
  {
   "cell_type": "code",
   "execution_count": 66,
   "id": "4d92c9d1-b85c-4de4-84c4-c8a31cc9a727",
   "metadata": {},
   "outputs": [
    {
     "data": {
      "text/plain": [
       "array([0.        , 0.04081633, 0.08163265, 0.12244898, 0.16326531,\n",
       "       0.20408163, 0.24489796, 0.28571429, 0.32653061, 0.36734694,\n",
       "       0.40816327, 0.44897959, 0.48979592, 0.53061224, 0.57142857,\n",
       "       0.6122449 , 0.65306122, 0.69387755, 0.73469388, 0.7755102 ,\n",
       "       0.81632653, 0.85714286, 0.89795918, 0.93877551, 0.97959184,\n",
       "       1.02040816, 1.06122449, 1.10204082, 1.14285714, 1.18367347,\n",
       "       1.2244898 , 1.26530612, 1.30612245, 1.34693878, 1.3877551 ,\n",
       "       1.42857143, 1.46938776, 1.51020408, 1.55102041, 1.59183673,\n",
       "       1.63265306, 1.67346939, 1.71428571, 1.75510204, 1.79591837,\n",
       "       1.83673469, 1.87755102, 1.91836735, 1.95918367, 2.        ])"
      ]
     },
     "execution_count": 66,
     "metadata": {},
     "output_type": "execute_result"
    }
   ],
   "source": [
    "x"
   ]
  },
  {
   "cell_type": "code",
   "execution_count": 67,
   "id": "e9d35acf-ba6c-458a-80c2-6ab64aef51f3",
   "metadata": {},
   "outputs": [],
   "source": [
    "# importation de matplotlib "
   ]
  },
  {
   "cell_type": "code",
   "execution_count": 68,
   "id": "57aa1800-06a7-438a-9917-5938953e4d90",
   "metadata": {},
   "outputs": [],
   "source": [
    "import matplotlib.pyplot as plt "
   ]
  },
  {
   "cell_type": "code",
   "execution_count": 78,
   "id": "dea6ac37-2f0e-439f-9dc2-6cc1c5a60a00",
   "metadata": {},
   "outputs": [
    {
     "data": {
      "text/plain": [
       "<matplotlib.legend.Legend at 0x2337363a6b0>"
      ]
     },
     "execution_count": 78,
     "metadata": {},
     "output_type": "execute_result"
    },
    {
     "data": {
      "image/png": "[encoded data removed]",
      "text/plain": [
       "<Figure size 600x400 with 1 Axes>"
      ]
     },
     "metadata": {},
     "output_type": "display_data"
    }
   ],
   "source": [
    "fig, ax = plt.subplots(figsize = (6,4))\n",
    "ax.plot(x, x*2, label= 'double')\n",
    "ax.plot(x, x**2, label = 'carre de x')\n",
    "ax.plot(x, (x**2)*2, label = 'cube de x')\n",
    "ax.set_xlabel('donne de x')\n",
    "ax.set_ylabel('donne de y')\n",
    "ax.set_title('legende')\n",
    "ax.legend()\n",
    "\n"
   ]
  },
  {
   "cell_type": "code",
   "execution_count": 79,
   "id": "22c0b425-bf78-4840-9f4a-fba9bee2c294",
   "metadata": {},
   "outputs": [],
   "source": [
    "# import de seaborn"
   ]
  },
  {
   "cell_type": "code",
   "execution_count": 82,
   "id": "88237b7a-3731-45e9-bc41-1669e26dbc88",
   "metadata": {},
   "outputs": [],
   "source": [
    "import seaborn as sns "
   ]
  },
  {
   "cell_type": "code",
   "execution_count": 83,
   "id": "a9cf8b27-ce66-4d54-8915-fa49bf1893b1",
   "metadata": {},
   "outputs": [],
   "source": [
    "iris_data = sns.load_dataset('iris')"
   ]
  },
  {
   "cell_type": "code",
   "execution_count": 84,
   "id": "de0cf57c-ae81-4739-a6b9-ace14bfb5050",
   "metadata": {},
   "outputs": [
    {
     "data": {
      "text/plain": [
       "<bound method NDFrame.head of      sepal_length  sepal_width  petal_length  petal_width    species\n",
       "0             5.1          3.5           1.4          0.2     setosa\n",
       "1             4.9          3.0           1.4          0.2     setosa\n",
       "2             4.7          3.2           1.3          0.2     setosa\n",
       "3             4.6          3.1           1.5          0.2     setosa\n",
       "4             5.0          3.6           1.4          0.2     setosa\n",
       "..            ...          ...           ...          ...        ...\n",
       "145           6.7          3.0           5.2          2.3  virginica\n",
       "146           6.3          2.5           5.0          1.9  virginica\n",
       "147           6.5          3.0           5.2          2.0  virginica\n",
       "148           6.2          3.4           5.4          2.3  virginica\n",
       "149           5.9          3.0           5.1          1.8  virginica\n",
       "\n",
       "[150 rows x 5 columns]>"
      ]
     },
     "execution_count": 84,
     "metadata": {},
     "output_type": "execute_result"
    }
   ],
   "source": [
    "iris_data.head"
   ]
  },
  {
   "cell_type": "code",
   "execution_count": 85,
   "id": "cc31f76e-d68d-4c50-ab3e-890b29db64d4",
   "metadata": {},
   "outputs": [
    {
     "data": {
      "text/plain": [
       "(150, 5)"
      ]
     },
     "execution_count": 85,
     "metadata": {},
     "output_type": "execute_result"
    }
   ],
   "source": [
    "iris_data.shape"
   ]
  },
  {
   "cell_type": "code",
   "execution_count": 88,
   "id": "489af8dc-ed32-4403-b642-62a062c1a928",
   "metadata": {},
   "outputs": [
    {
     "data": {
      "text/plain": [
       "array(['setosa', 'versicolor', 'virginica'], dtype=object)"
      ]
     },
     "execution_count": 88,
     "metadata": {},
     "output_type": "execute_result"
    }
   ],
   "source": [
    "iris_data['species'].unique()"
   ]
  },
  {
   "cell_type": "code",
   "execution_count": 91,
   "id": "87fd74a7-d664-4189-9fdd-55848fa0a784",
   "metadata": {},
   "outputs": [
    {
     "data": {
      "text/plain": [
       "<Axes: xlabel='sepal_length', ylabel='sepal_width'>"
      ]
     },
     "execution_count": 91,
     "metadata": {},
     "output_type": "execute_result"
    },
    {
     "data": {
      "image/png": "[encoded data removed]",
      "text/plain": [
       "<Figure size 640x480 with 1 Axes>"
      ]
     },
     "metadata": {},
     "output_type": "display_data"
    }
   ],
   "source": [
    "sns.scatterplot(x='sepal_length',y='sepal_width', data = iris_data , hue='species')"
   ]
  },
  {
   "cell_type": "code",
   "execution_count": 92,
   "id": "77a77eee-ee4b-4f54-820c-03987baf14ef",
   "metadata": {},
   "outputs": [
    {
     "data": {
      "text/plain": [
       "array([0, 1, 2])"
      ]
     },
     "execution_count": 92,
     "metadata": {},
     "output_type": "execute_result"
    }
   ],
   "source": [
    "Mapping_td =  {\n",
    "    'setosa' : 0,\n",
    "    'versicolor' : 1,\n",
    "    'virginica': 2\n",
    "}\n",
    "iris_data['species'] =  iris_data['species'].map(Mapping_td)\n",
    "iris_data['species'].unique()"
   ]
  },
  {
   "cell_type": "code",
   "execution_count": null,
   "id": "3a33bc0f-64d8-4943-9d4a-616b40c1f803",
   "metadata": {},
   "outputs": [],
   "source": []
  }
 ],
 "metadata": {
  "kernelspec": {
   "display_name": "Python 3 (ipykernel)",
   "language": "python",
   "name": "python3"
  },
  "language_info": {
   "codemirror_mode": {
    "name": "ipython",
    "version": 3
   },
   "file_extension": ".py",
   "mimetype": "text/x-python",
   "name": "python",
   "nbconvert_exporter": "python",
   "pygments_lexer": "ipython3",
   "version": "3.10.16"
  }
 },
 "nbformat": 4,
 "nbformat_minor": 5
}
